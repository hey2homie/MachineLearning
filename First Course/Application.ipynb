{
 "cells": [
  {
   "cell_type": "code",
   "execution_count": 1,
   "metadata": {
    "collapsed": true
   },
   "outputs": [],
   "source": [
    "import time\n",
    "import numpy as np\n",
    "import matplotlib.pyplot as plt\n",
    "import scipy\n",
    "import h5py\n",
    "from PIL import Image\n",
    "from scipy import ndimage\n",
    "from dnn_app_utils_v3 import *"
   ]
  },
  {
   "cell_type": "code",
   "execution_count": 2,
   "outputs": [],
   "source": [
    "np.random.seed(1)"
   ],
   "metadata": {
    "collapsed": false,
    "pycharm": {
     "name": "#%%\n"
    }
   }
  },
  {
   "cell_type": "code",
   "execution_count": 3,
   "outputs": [
    {
     "name": "stdout",
     "output_type": "stream",
     "text": [
      "Number of training examples 209\n",
      "Number of testing examples 50\n",
      "Size of each image 64, 64, 3\n"
     ]
    }
   ],
   "source": [
    "# Loading datasets\n",
    "\n",
    "train_x_orig, train_y, test_x_orig, test_y, classes = load_data()\n",
    "\n",
    "# Statistics\n",
    "\n",
    "print(\"Number of training examples \" + str(train_x_orig.shape[0]))\n",
    "print(\"Number of testing examples \" + str(test_x_orig.shape[0]))\n",
    "print(\"Size of each image \" + str(train_x_orig.shape[1]) + \", \" + str(train_x_orig.shape[1]) + \", 3\")"
   ],
   "metadata": {
    "collapsed": false,
    "pycharm": {
     "name": "#%%\n"
    }
   }
  },
  {
   "cell_type": "code",
   "source": [
    "# We need to reshape and standardize the images before feeding them to the network. We'll reshape each image consisting\n",
    "# of three layers (for each RGB) into single vector.\n",
    "\n",
    "train_x = train_x_orig.reshape(train_x_orig.shape[0], -1).T / 255\n",
    "test_x =  test_x_orig.reshape(test_x_orig.shape[0], -1).T / 255\n",
    "\n",
    "# 255 is since pixels take values from 0 to 255"
   ],
   "metadata": {
    "collapsed": false,
    "pycharm": {
     "name": "#%%\n"
    }
   },
   "execution_count": 4,
   "outputs": []
  },
  {
   "cell_type": "markdown",
   "source": [
    "### 2-Layer architecture of the model\n",
    "\n",
    "The input in this model is a (64, 64, 3) image which is flattened to a vector of size (12288, 1). The corresponding\n",
    "vector is than transposed and multiplied by the weight matrix $ W^{l} $ of size ($ n^{l}, 12288 $). Then we add a bias\n",
    "term and take its ReLU to get the following vector:\n",
    "$ \\begin{bmatrix} a^{1}_0 & a_1^1 & \\dots & a_{n - 1}^1 \\end{bmatrix}^T $. We repeat the same process after. Then we\n",
    "multiply the resulting vector by $ W^2 $ and add the intercept (bias). Finally, we take the sigmoid function of the\n",
    "result. If the result greater than $ 0.5 $, we classify it as a cat."
   ],
   "metadata": {
    "collapsed": false,
    "pycharm": {
     "name": "#%% md\n"
    }
   }
  },
  {
   "cell_type": "markdown",
   "source": [
    "### L-layer deep neural network\n",
    "\n",
    "The input, the multiplication of resulting vector by weight matrix and adding bias are the same steps as in 2-layer\n",
    "model. Next step is to take *ReLU* of the linear unit (the result of multiplication and addition). This process could be\n",
    "repeated several times for each $ W^{l}, b^{l} $ depending on the model architecture. Finally, we take the sigmoid of\n",
    "the final linear unit. Classification happens as before."
   ],
   "metadata": {
    "collapsed": false,
    "pycharm": {
     "name": "#%% md\n"
    }
   }
  },
  {
   "cell_type": "markdown",
   "source": [
    "### General methodology\n",
    "\n",
    "1. Initialization of parameters and definition of hyperparameters;\n",
    "2. Loop though:\n",
    "    - Forward propagation;\n",
    "    - Computation of cost function;\n",
    "    - Backward propagation;\n",
    "    - Updating parameters;\n",
    "3. Using trained parameters to predict labels"
   ],
   "metadata": {
    "collapsed": false,
    "pycharm": {
     "name": "#%% md\n"
    }
   }
  },
  {
   "cell_type": "code",
   "execution_count": 5,
   "outputs": [],
   "source": [
    "# Constants defining the model and that are used in 2-layer model\n",
    "\n",
    "number_of_features = 12288\n",
    "number_of_h = 7     # What's h?\n",
    "number_of_y = 1     # What's y?\n",
    "layers_dimensions_2 = (number_of_features, number_of_h, number_of_y)"
   ],
   "metadata": {
    "collapsed": false,
    "pycharm": {
     "name": "#%%\n"
    }
   }
  },
  {
   "cell_type": "code",
   "execution_count": 6,
   "outputs": [],
   "source": [
    "def sigmoid(z):\n",
    "\n",
    "    a = 1 / (1 + np.exp(-z))\n",
    "    cache = z\n",
    "\n",
    "    return a, cache"
   ],
   "metadata": {
    "collapsed": false,
    "pycharm": {
     "name": "#%%\n"
    }
   }
  },
  {
   "cell_type": "code",
   "execution_count": 7,
   "outputs": [],
   "source": [
    "def relu(z):\n",
    "\n",
    "    a = np.maximum(0, z)\n",
    "    cache = z\n",
    "\n",
    "    return a, cache"
   ],
   "metadata": {
    "collapsed": false,
    "pycharm": {
     "name": "#%%\n"
    }
   }
  },
  {
   "cell_type": "code",
   "execution_count": 8,
   "outputs": [],
   "source": [
    "def backward_sigmoid(d_activation, cache):\n",
    "\n",
    "    z = cache\n",
    "    s = 1 / (1 + np.exp(-z))\n",
    "    dz = d_activation * s * (1 - s)\n",
    "\n",
    "    return dz"
   ],
   "metadata": {
    "collapsed": false,
    "pycharm": {
     "name": "#%%\n"
    }
   }
  },
  {
   "cell_type": "code",
   "execution_count": 9,
   "outputs": [],
   "source": [
    "def backward_relu(d_activation, cache):\n",
    "\n",
    "    z = cache\n",
    "    dz = np.array(d_activation, copy = True)\n",
    "    dz[z <= 0] = 0\n",
    "\n",
    "    return dz"
   ],
   "metadata": {
    "collapsed": false,
    "pycharm": {
     "name": "#%%\n"
    }
   }
  },
  {
   "cell_type": "code",
   "execution_count": 10,
   "outputs": [],
   "source": [
    "def initialize_parameters(n_x, n_h, n_y):\n",
    "\n",
    "    np.random.seed(1)\n",
    "\n",
    "    w1 = np.random.randn(n_h, n_x) * 0.01\n",
    "    b1 = np.zeros((n_h, 1))\n",
    "    w2 = np.random.randn(n_y, n_h) * 0.01\n",
    "    b2 = np.zeros((n_y, 1))\n",
    "\n",
    "    param = {\"W1\": w1, \"b1\": b1, \"W2\": w2, \"b2\": b2}\n",
    "\n",
    "    return param"
   ],
   "metadata": {
    "collapsed": false,
    "pycharm": {
     "name": "#%%\n"
    }
   }
  },
  {
   "cell_type": "code",
   "execution_count": 11,
   "outputs": [],
   "source": [
    "def update_parameters(param, gradients, learning_rate):\n",
    "\n",
    "    number_of_layers = len(param) // 2\n",
    "\n",
    "    for i in range(number_of_layers):\n",
    "        param[\"W\" + str(i + 1)] = param[\"W\" + str(i + 1)] - learning_rate * gradients[\"dW\" + str(i + 1)]\n",
    "        param[\"b\" + str(i + 1)] = param[\"b\" + str(i + 1)] - learning_rate * gradients[\"db\" + str(i + 1)]\n",
    "\n",
    "    return param"
   ],
   "metadata": {
    "collapsed": false,
    "pycharm": {
     "name": "#%%\n"
    }
   }
  },
  {
   "cell_type": "code",
   "execution_count": 12,
   "outputs": [],
   "source": [
    "def linear_forward_propagation(activations, weights, bias):\n",
    "\n",
    "    z = weights.dot(activations) + bias\n",
    "    cache = (activations, weights, bias)\n",
    "\n",
    "    return z, cache"
   ],
   "metadata": {
    "collapsed": false,
    "pycharm": {
     "name": "#%%\n"
    }
   }
  },
  {
   "cell_type": "code",
   "execution_count": 13,
   "outputs": [],
   "source": [
    "def linear_activation_forward_propagation(activations_previous, weights, bias, activation):\n",
    "\n",
    "    z, linear_cache = linear_forward_propagation(activations_previous, weights, bias)\n",
    "\n",
    "    if activation == \"sigmoid\":\n",
    "        activations, activation_cache = sigmoid(z)\n",
    "    else:\n",
    "        activations, activation_cache = relu(z)\n",
    "\n",
    "    cache = (linear_cache, activation_cache)\n",
    "\n",
    "    return activations, cache"
   ],
   "metadata": {
    "collapsed": false,
    "pycharm": {
     "name": "#%%\n"
    }
   }
  },
  {
   "cell_type": "code",
   "execution_count": 14,
   "outputs": [],
   "source": [
    "def linear_backward_propagation(dz, cache):\n",
    "\n",
    "    activation_previous, weights, bias = cache\n",
    "    m = activation_previous.shape[1]\n",
    "\n",
    "    dw = 1 / m * np.dot(dz, activation_previous.T)\n",
    "    db = 1 / m * np.sum(dz, axis = 1, keepdims = True)\n",
    "    d_activation_previous = np.dot(weights.T, dz)\n",
    "\n",
    "    return d_activation_previous, dw, db"
   ],
   "metadata": {
    "collapsed": false,
    "pycharm": {
     "name": "#%%\n"
    }
   }
  },
  {
   "cell_type": "code",
   "execution_count": 15,
   "outputs": [],
   "source": [
    "def linear_activation_backward_propagation(d_activation, cache, activation):\n",
    "\n",
    "    linear_cache, activation_cache = cache\n",
    "\n",
    "    if activation == \"sigmoid\":\n",
    "        dz = backward_sigmoid(d_activation, activation_cache)\n",
    "    else:\n",
    "        dz = backward_relu(d_activation, activation_cache)\n",
    "\n",
    "    d_activation_previous, dw, db = linear_backward(dz, linear_cache)\n",
    "\n",
    "    return d_activation_previous, dw, db"
   ],
   "metadata": {
    "collapsed": false,
    "pycharm": {
     "name": "#%%\n"
    }
   }
  },
  {
   "cell_type": "code",
   "execution_count": 16,
   "outputs": [],
   "source": [
    "def compute_cost(probability_vector, label_vector):\n",
    "\n",
    "    tests = label_vector.shape[1]\n",
    "    cost = -1 / tests * (np.dot(label_vector, np.log(probability_vector.T)) +\n",
    "                         np.dot(1 - label_vector, np.log(1 - probability_vector).T))\n",
    "\n",
    "    return cost"
   ],
   "metadata": {
    "collapsed": false,
    "pycharm": {
     "name": "#%%\n"
    }
   }
  },
  {
   "cell_type": "code",
   "execution_count": 17,
   "outputs": [],
   "source": [
    "def visualization_of_cost(costs, learning_rate):\n",
    "\n",
    "    plt.plot(np.squeeze(costs))\n",
    "    plt.ylabel(\"Cost\")\n",
    "    plt.xlabel(\"Iterations\")\n",
    "    plt.title(\"Learning rate = \" + str(learning_rate))\n",
    "    plt.show()"
   ],
   "metadata": {
    "collapsed": false,
    "pycharm": {
     "name": "#%%\n"
    }
   }
  },
  {
   "cell_type": "code",
   "execution_count": 18,
   "outputs": [],
   "source": [
    "# This part is used for 2-layer model\n",
    "\n",
    "def two_layer_model(x, y, dims, learning_rate = 0.0075, number_of_iterations = 3000, print_cost = False):\n",
    "\n",
    "    \"\"\"\n",
    "    :param x: input data, of shape (number_of_features, number of examples)\n",
    "    :param y: true \"label\" vector, of shape (1, number of examples)\n",
    "    :param dims: dimensions of the layers\n",
    "    :param learning_rate: learning rate of the gradient descent update rule\n",
    "    :param number_of_iterations: number of iterations of the optimization loop\n",
    "    :param print_cost: if set to True, than will print the cost every 100 iterations\n",
    "    :return: parameters - a dictionary containing W1, W2, b1, and b2\n",
    "    \"\"\"\n",
    "\n",
    "    np.random.seed(1)\n",
    "\n",
    "    gradients = {}\n",
    "    costs = []   # to keep track of the cost\n",
    "    (n_f, n_h, n_y) = dims\n",
    "\n",
    "    params = initialize_parameters(n_f, n_h, n_y)\n",
    "\n",
    "    w1 = params[\"W1\"]\n",
    "    w2 = params[\"W2\"]\n",
    "    b1 = params[\"b1\"]\n",
    "    b2 = params[\"b2\"]\n",
    "\n",
    "    for i in range(0, number_of_iterations):\n",
    "\n",
    "        # Forward propagation: linear - ReLU - linear - sigmoid\n",
    "        a1, cache1 = linear_activation_forward_propagation(x, w1, b1, activation = \"relu\")\n",
    "        a2, cache2 = linear_activation_forward_propagation(a1, w2, b2, activation = \"sigmoid\")\n",
    "\n",
    "        # Computing cost function\n",
    "        cost = compute_cost(a2, y)\n",
    "\n",
    "        # Initialization of backward propagation\n",
    "        da2 = - (np.divide(y, a2) - np.divide(1 - y, 1 - a2))\n",
    "\n",
    "        # Backward propagation\n",
    "        da1, dw2, db2 = linear_activation_backward_propagation(da2, cache2, activation = \"sigmoid\")\n",
    "        da0, dw1, db1 = linear_activation_backward_propagation(da1, cache1, activation = \"relu\")\n",
    "\n",
    "        gradients[\"dW1\"] = dw1\n",
    "        gradients[\"dW2\"] = dw2\n",
    "        gradients[\"db1\"] = db1\n",
    "        gradients[\"db2\"] = db2\n",
    "\n",
    "        # Updating parameters\n",
    "        params = update_parameters(params, gradients, learning_rate)\n",
    "\n",
    "        # Retrieving updated parameters\n",
    "        w1 = params[\"W1\"]\n",
    "        w2 = params[\"W2\"]\n",
    "        b1 = params[\"b1\"]\n",
    "        b2 = params[\"b2\"]\n",
    "\n",
    "        if print_cost and i % 100 == 0:\n",
    "            print(\"Cost after iteration {}: {}\".format(i, np.squeeze(cost)))\n",
    "        if print_cost and i % 100 == 0:\n",
    "            costs.append(cost)\n",
    "\n",
    "    # Plotting the cost\n",
    "    visualization_of_cost(costs, learning_rate)\n",
    "\n",
    "    return params"
   ],
   "metadata": {
    "collapsed": false,
    "pycharm": {
     "name": "#%%\n"
    }
   }
  },
  {
   "cell_type": "code",
   "execution_count": 19,
   "outputs": [
    {
     "name": "stdout",
     "output_type": "stream",
     "text": [
      "Cost after iteration 0: 0.693049735659989\n",
      "Cost after iteration 100: 0.6464320953428849\n",
      "Cost after iteration 200: 0.6325140647912678\n",
      "Cost after iteration 300: 0.6015024920354665\n",
      "Cost after iteration 400: 0.5601966311605748\n",
      "Cost after iteration 500: 0.515830477276473\n",
      "Cost after iteration 600: 0.4754901313943325\n",
      "Cost after iteration 700: 0.43391631512257495\n",
      "Cost after iteration 800: 0.40079775362038866\n",
      "Cost after iteration 900: 0.3580705011323798\n",
      "Cost after iteration 1000: 0.3394281538366413\n",
      "Cost after iteration 1100: 0.3052753636196264\n",
      "Cost after iteration 1200: 0.27491377282130164\n",
      "Cost after iteration 1300: 0.24681768210614857\n",
      "Cost after iteration 1400: 0.19850735037466094\n",
      "Cost after iteration 1500: 0.17448318112556632\n",
      "Cost after iteration 1600: 0.17080762978096875\n",
      "Cost after iteration 1700: 0.11306524562164708\n",
      "Cost after iteration 1800: 0.09629426845937152\n",
      "Cost after iteration 1900: 0.08342617959726867\n",
      "Cost after iteration 2000: 0.07439078704319087\n",
      "Cost after iteration 2100: 0.06630748132267936\n",
      "Cost after iteration 2200: 0.05919329501038175\n",
      "Cost after iteration 2300: 0.053361403485605606\n",
      "Cost after iteration 2400: 0.04855478562877021\n"
     ]
    },
    {
     "data": {
      "text/plain": "<Figure size 432x288 with 1 Axes>",
      "image/png": "[encoded data removed]"
     },
     "metadata": {
      "needs_background": "light"
     },
     "output_type": "display_data"
    }
   ],
   "source": [
    "parameters = two_layer_model(train_x, train_y, dims = (number_of_features, number_of_h, number_of_y),\n",
    "                             number_of_iterations = 2500, print_cost = True)"
   ],
   "metadata": {
    "collapsed": false,
    "pycharm": {
     "name": "#%%\n"
    }
   }
  },
  {
   "cell_type": "code",
   "execution_count": 20,
   "outputs": [
    {
     "name": "stdout",
     "output_type": "stream",
     "text": [
      "Accuracy: 0.9999999999999998\n",
      "Accuracy: 0.72\n"
     ]
    }
   ],
   "source": [
    "prediction_train = predict(train_x, train_y, parameters)\n",
    "prediction_test = predict(test_x, test_y, parameters)"
   ],
   "metadata": {
    "collapsed": false,
    "pycharm": {
     "name": "#%%\n"
    }
   }
  },
  {
   "cell_type": "code",
   "execution_count": 21,
   "outputs": [],
   "source": [
    "# Constants that are used in the n-layer model\n",
    "\n",
    "layers_dimensions_n = [12288, 20, 7, 5, 1]    # 4-layer model"
   ],
   "metadata": {
    "collapsed": false,
    "pycharm": {
     "name": "#%%\n"
    }
   }
  },
  {
   "cell_type": "code",
   "execution_count": 22,
   "outputs": [],
   "source": [
    "def initialize_parameters_depp(dims):\n",
    "\n",
    "    np.random.seed(1)\n",
    "\n",
    "    param = {}\n",
    "    number_of_layers = len(dims)\n",
    "\n",
    "    for i in range(1, number_of_layers):\n",
    "        param['W' + str(i)] = np.random.randn(dims[i], dims[i - 1]) / np.sqrt(dims[i - 1])\n",
    "        param['b' + str(i)] = np.zeros((dims[i], 1))\n",
    "\n",
    "    return param"
   ],
   "metadata": {
    "collapsed": false,
    "pycharm": {
     "name": "#%%\n"
    }
   }
  },
  {
   "cell_type": "code",
   "execution_count": 23,
   "outputs": [],
   "source": [
    "def l_layer_forward_propagation(x, param):\n",
    "\n",
    "    caches = []\n",
    "    activation = x\n",
    "    number_of_layers = len(param) // 2\n",
    "\n",
    "    # Implementation of [linear - ReLU] * (number_of_layers - 1)\n",
    "    for i in range(1, number_of_layers):\n",
    "        previous_activation = activation\n",
    "        activation, cache = linear_activation_forward_propagation(previous_activation, param['W' + str(i)],\n",
    "                                                                  param['b' + str(i)], activation = \"relu\")\n",
    "        caches.append(cache)\n",
    "\n",
    "    # Implementation of linear - sigmoid\n",
    "    last_activation, cache = linear_activation_forward_propagation(activation, param['W' + str(number_of_layers)],\n",
    "                                                       param['b' + str(number_of_layers)], activation = \"sigmoid\")\n",
    "    caches.append(cache)\n",
    "\n",
    "    return last_activation, caches"
   ],
   "metadata": {
    "collapsed": false,
    "pycharm": {
     "name": "#%%\n"
    }
   }
  },
  {
   "cell_type": "code",
   "execution_count": 24,
   "outputs": [],
   "source": [
    "def l_layer_backward_propagation(last_activation, y, caches):\n",
    "\n",
    "    grads = {}\n",
    "    number_of_layers = len(caches)\n",
    "    y = y.reshape(last_activation.shape)     # y is the same shape as last_activation\n",
    "\n",
    "    # Initializing the backpropagation\n",
    "    d_last_activation = - (np.divide(y, last_activation) - np.divide(1 - y, 1 - last_activation))\n",
    "\n",
    "    # Lth layer (SIGMOID -> LINEAR) gradients\n",
    "    current_cache = caches[number_of_layers - 1]\n",
    "    grads[\"dA\" + str(number_of_layers - 1)], grads[\"dW\" + str(number_of_layers)], grads[\"db\" + str(number_of_layers)] = linear_activation_backward_propagation(d_last_activation, current_cache, activation = \"sigmoid\")\n",
    "\n",
    "    for i in reversed(range(number_of_layers - 1)):\n",
    "        # ith layer: (RELU -> LINEAR) gradients.\n",
    "        current_cache = caches[i]\n",
    "        da_prev_temp, dw_temp, db_temp = linear_activation_backward_propagation(grads[\"dA\" + str(i + 1)], current_cache,\n",
    "                                                                    activation = \"relu\")\n",
    "        grads[\"dA\" + str(i)] = da_prev_temp\n",
    "        grads[\"dW\" + str(i + 1)] = dw_temp\n",
    "        grads[\"db\" + str(i + 1)] = db_temp\n",
    "\n",
    "    return grads"
   ],
   "metadata": {
    "collapsed": false,
    "pycharm": {
     "name": "#%%\n"
    }
   }
  },
  {
   "cell_type": "code",
   "execution_count": 25,
   "outputs": [],
   "source": [
    "def l_layer_model(x, y, dims, learning_rate = 0.0075, number_of_iterations = 3000, print_cost = True):\n",
    "\n",
    "    \"\"\"\n",
    "    :param x: input data, of shape (number_of_features, number of examples)\n",
    "    :param y: true \"label\" vector, of shape (1, number of examples)\n",
    "    :param dims: dimensions of the layers\n",
    "    :param learning_rate: learning rate of the gradient descent update rule\n",
    "    :param number_of_iterations: number of iterations of the optimization loop\n",
    "    :param print_cost: if set to True, than will print the cost every 100 iterations\n",
    "    :return: parameters - a dictionary containing W1, W2, b1, and b2\n",
    "    \"\"\"\n",
    "\n",
    "    np.random.seed(1)\n",
    "\n",
    "    costs = []\n",
    "\n",
    "    # Parameters initialization\n",
    "    params = initialize_parameters_depp(dims)\n",
    "\n",
    "    # Calculating gradient descent\n",
    "    for i in range(0, number_of_iterations):\n",
    "\n",
    "        # Forward propagation: [linear - ReLU] * (number_of_layers - 1) - linear - sigmoid\n",
    "        last_activation , caches = l_layer_forward_propagation(x, params)\n",
    "        cost = compute_cost(last_activation, y)\n",
    "\n",
    "        # Backward propagation\n",
    "        gradients = l_layer_backward_propagation(last_activation, y, caches)\n",
    "\n",
    "        params = update_parameters(params, gradients, learning_rate)\n",
    "\n",
    "        if print_cost and i % 100 == 0:\n",
    "            print(\"Cost after iteration {}: {}\".format(i, np.squeeze(cost)))\n",
    "        if print_cost and i % 100 == 0:\n",
    "            costs.append(cost)\n",
    "\n",
    "    visualization_of_cost(costs, learning_rate)\n",
    "\n",
    "    return params"
   ],
   "metadata": {
    "collapsed": false,
    "pycharm": {
     "name": "#%%\n"
    }
   }
  },
  {
   "cell_type": "code",
   "execution_count": 26,
   "outputs": [
    {
     "name": "stdout",
     "output_type": "stream",
     "text": [
      "Cost after iteration 0: 0.7717493284237686\n",
      "Cost after iteration 100: 0.6720534400822914\n",
      "Cost after iteration 200: 0.6482632048575212\n",
      "Cost after iteration 300: 0.6115068816101354\n",
      "Cost after iteration 400: 0.5670473268366111\n",
      "Cost after iteration 500: 0.5401376634547801\n",
      "Cost after iteration 600: 0.5279299569455267\n",
      "Cost after iteration 700: 0.4654773771766851\n",
      "Cost after iteration 800: 0.36912585249592794\n",
      "Cost after iteration 900: 0.39174697434805344\n",
      "Cost after iteration 1000: 0.3151869888600617\n",
      "Cost after iteration 1100: 0.2726998441789385\n",
      "Cost after iteration 1200: 0.23741853400268137\n",
      "Cost after iteration 1300: 0.19960120532208647\n",
      "Cost after iteration 1400: 0.18926300388463305\n",
      "Cost after iteration 1500: 0.1611885466582775\n",
      "Cost after iteration 1600: 0.14821389662363316\n",
      "Cost after iteration 1700: 0.1377748781297294\n",
      "Cost after iteration 1800: 0.1297401754919012\n",
      "Cost after iteration 1900: 0.12122535068005211\n",
      "Cost after iteration 2000: 0.1138206066863371\n",
      "Cost after iteration 2100: 0.1078392852625413\n",
      "Cost after iteration 2200: 0.1028546606935268\n",
      "Cost after iteration 2300: 0.10089745445261787\n",
      "Cost after iteration 2400: 0.09287821526472397\n"
     ]
    },
    {
     "data": {
      "text/plain": "<Figure size 432x288 with 1 Axes>",
      "image/png": "[encoded data removed]"
     },
     "metadata": {
      "needs_background": "light"
     },
     "output_type": "display_data"
    }
   ],
   "source": [
    "parameters = l_layer_model(train_x, train_y, layers_dimensions_n, number_of_iterations = 2500, print_cost = True)"
   ],
   "metadata": {
    "collapsed": false,
    "pycharm": {
     "name": "#%%\n"
    }
   }
  },
  {
   "cell_type": "code",
   "execution_count": 27,
   "outputs": [
    {
     "name": "stdout",
     "output_type": "stream",
     "text": [
      "Accuracy: 0.9856459330143539\n",
      "Accuracy: 0.8\n"
     ]
    }
   ],
   "source": [
    "prediction_test_deep = predict(train_x, train_y, parameters)\n",
    "prediction_train_deep = predict(test_x, test_y, parameters)"
   ],
   "metadata": {
    "collapsed": false,
    "pycharm": {
     "name": "#%%\n"
    }
   }
  },
  {
   "cell_type": "code",
   "execution_count": 27,
   "outputs": [],
   "source": [],
   "metadata": {
    "collapsed": false,
    "pycharm": {
     "name": "#%%"
    }
   }
  }
 ],
 "metadata": {
  "kernelspec": {
   "display_name": "Python 3",
   "language": "python",
   "name": "python3"
  },
  "language_info": {
   "codemirror_mode": {
    "name": "ipython",
    "version": 2
   },
   "file_extension": ".py",
   "mimetype": "text/x-python",
   "name": "python",
   "nbconvert_exporter": "python",
   "pygments_lexer": "ipython2",
   "version": "2.7.6"
  }
 },
 "nbformat": 4,
 "nbformat_minor": 0
}